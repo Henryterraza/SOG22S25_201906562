{
  "nbformat": 4,
  "nbformat_minor": 0,
  "metadata": {
    "colab": {
      "provenance": []
    },
    "kernelspec": {
      "name": "python3",
      "display_name": "Python 3"
    },
    "language_info": {
      "name": "python"
    }
  },
  "cells": [
    {
      "cell_type": "markdown",
      "source": [
        "|Nombre|Carnet|\n",
        "|-----|-----|\n",
        "|Henry Marinao Ambrocio Terraza Perez|20196562|"
      ],
      "metadata": {
        "id": "hKVa3z0hEjsr"
      }
    },
    {
      "cell_type": "markdown",
      "source": [
        "# Tarea 3"
      ],
      "metadata": {
        "id": "00WM5UIiAk8a"
      }
    },
    {
      "cell_type": "markdown",
      "source": [
        "Se importan las librerias a usar"
      ],
      "metadata": {
        "id": "uccJxjOhAsMq"
      }
    },
    {
      "cell_type": "code",
      "execution_count": 9,
      "metadata": {
        "id": "AFdufahM7F2A"
      },
      "outputs": [],
      "source": [
        "import pandas as pd\n",
        "import numpy as np\n",
        "import matplotlib.pyplot as plt"
      ]
    },
    {
      "cell_type": "markdown",
      "source": [
        "Se crea funcion para obtener los datos"
      ],
      "metadata": {
        "id": "82vOlRLXAvCj"
      }
    },
    {
      "cell_type": "code",
      "source": [
        "def robust_read_csv(path):\n",
        "    try:\n",
        "        df = pd.read_csv(path)\n",
        "        if df.shape[1] == 1:\n",
        "            raise ValueError(\"CSV con delimitador incorrecto, reintentando con ;\")\n",
        "        return df\n",
        "    except Exception:\n",
        "        return pd.read_csv(path, sep=\";\")"
      ],
      "metadata": {
        "id": "9iemVZqH83ik"
      },
      "execution_count": 10,
      "outputs": []
    },
    {
      "cell_type": "markdown",
      "source": [
        "Se optienen los datos"
      ],
      "metadata": {
        "id": "9wstwxzIAzdN"
      }
    },
    {
      "cell_type": "code",
      "source": [
        "df = robust_read_csv(\"winequality-red.csv\")"
      ],
      "metadata": {
        "id": "c7Xu4s7e9ATi"
      },
      "execution_count": 11,
      "outputs": []
    },
    {
      "cell_type": "markdown",
      "source": [
        "Se hace una limpieza de los datos"
      ],
      "metadata": {
        "id": "ozA4yWKaA1WO"
      }
    },
    {
      "cell_type": "code",
      "source": [
        "df.columns = (\n",
        "    df.columns\n",
        "    .str.strip()\n",
        "    .str.lower()\n",
        "    .str.replace(\" \", \"_\")\n",
        "    .str.replace(\"-\", \"_\")\n",
        ")"
      ],
      "metadata": {
        "id": "l6VxAhkQ9DjS"
      },
      "execution_count": 12,
      "outputs": []
    },
    {
      "cell_type": "markdown",
      "source": [
        "Se elimina los valores de los extremos"
      ],
      "metadata": {
        "id": "M6aGnaNJBBIv"
      }
    },
    {
      "cell_type": "code",
      "source": [
        "numeric_cols = df.select_dtypes(include=[np.number]).columns.tolist()\n",
        "Q1, Q3 = df[numeric_cols].quantile(0.25), df[numeric_cols].quantile(0.75)\n",
        "IQR = Q3 - Q1\n",
        "df = df[~(((df[numeric_cols] < (Q1 - 3*IQR)) | (df[numeric_cols] > (Q3 + 3*IQR))).any(axis=1))].reset_index(drop=True)\n",
        "\n",
        "print(\"Datos cargados y limpios. Filas:\", df.shape[0])"
      ],
      "metadata": {
        "colab": {
          "base_uri": "https://localhost:8080/",
          "height": 0
        },
        "id": "oUD5iyA99LaS",
        "outputId": "a158df53-2014-4cef-b726-74c30a85a8c4"
      },
      "execution_count": 13,
      "outputs": [
        {
          "output_type": "stream",
          "name": "stdout",
          "text": [
            "Datos cargados y limpios. Filas: 1435\n"
          ]
        }
      ]
    },
    {
      "cell_type": "markdown",
      "source": [
        "Se obtiene un resumen estadistico"
      ],
      "metadata": {
        "id": "ZOqXWZhmBMOQ"
      }
    },
    {
      "cell_type": "code",
      "source": [
        "print(\"\\n Resumen estadístico:\")\n",
        "print(df.describe().T)"
      ],
      "metadata": {
        "colab": {
          "base_uri": "https://localhost:8080/",
          "height": 0
        },
        "id": "tW3Y75Ly9Ptq",
        "outputId": "94575d8f-53eb-4885-d19f-519dbb7eff38"
      },
      "execution_count": 14,
      "outputs": [
        {
          "output_type": "stream",
          "name": "stdout",
          "text": [
            "\n",
            "📊 Resumen estadístico:\n",
            "                       count       mean        std      min       25%  \\\n",
            "fixed_acidity         1435.0   8.294704   1.704257  4.60000   7.10000   \n",
            "volatile_acidity      1435.0   0.525031   0.176757  0.12000   0.39000   \n",
            "citric_acid           1435.0   0.261003   0.189783  0.00000   0.09000   \n",
            "residual_sugar        1435.0   2.270662   0.593623  0.90000   1.90000   \n",
            "chlorides             1435.0   0.079296   0.016440  0.01200   0.07000   \n",
            "free_sulfur_dioxide   1435.0  15.668641   9.830668  1.00000   8.00000   \n",
            "total_sulfur_dioxide  1435.0  44.933101  30.465256  6.00000  22.00000   \n",
            "density               1435.0   0.996620   0.001801  0.99007   0.99552   \n",
            "ph                    1435.0   3.318997   0.148639  2.86000   3.22000   \n",
            "sulphates             1435.0   0.641693   0.133479  0.33000   0.55000   \n",
            "alcohol               1435.0  10.437967   1.054583  8.40000   9.50000   \n",
            "quality               1435.0   5.643902   0.796188  3.00000   5.00000   \n",
            "\n",
            "                          50%       75%       max  \n",
            "fixed_acidity          7.9000   9.20000   15.0000  \n",
            "volatile_acidity       0.5200   0.63000    1.3300  \n",
            "citric_acid            0.2500   0.42000    0.7600  \n",
            "residual_sugar         2.2000   2.50000    4.7000  \n",
            "chlorides              0.0780   0.08800    0.1470  \n",
            "free_sulfur_dioxide   14.0000  21.00000   57.0000  \n",
            "total_sulfur_dioxide  37.0000  60.00000  165.0000  \n",
            "density                0.9966   0.99774    1.0021  \n",
            "ph                     3.3200   3.41000    3.9000  \n",
            "sulphates              0.6200   0.71000    1.2200  \n",
            "alcohol               10.2000  11.10000   14.0000  \n",
            "quality                6.0000   6.00000    8.0000  \n"
          ]
        }
      ]
    },
    {
      "cell_type": "markdown",
      "source": [
        "## Matriz de corelaccion"
      ],
      "metadata": {
        "id": "Fi-gn_rWBQX2"
      }
    },
    {
      "cell_type": "code",
      "source": [
        "corr = df.corr(numeric_only=True)\n",
        "print(\"\\n🔗 Matriz de correlación (Pearson):\")\n",
        "print(corr[\"quality\"].sort_values(ascending=False))"
      ],
      "metadata": {
        "colab": {
          "base_uri": "https://localhost:8080/",
          "height": 0
        },
        "id": "EsM_rKSB9u_N",
        "outputId": "dbd392f3-24d2-4aec-abd8-98f6d2c32f6c"
      },
      "execution_count": 15,
      "outputs": [
        {
          "output_type": "stream",
          "name": "stdout",
          "text": [
            "\n",
            "🔗 Matriz de correlación (Pearson):\n",
            "quality                 1.000000\n",
            "alcohol                 0.489736\n",
            "sulphates               0.379043\n",
            "citric_acid             0.240550\n",
            "fixed_acidity           0.116555\n",
            "residual_sugar         -0.002865\n",
            "free_sulfur_dioxide    -0.037092\n",
            "ph                     -0.064598\n",
            "chlorides              -0.176484\n",
            "density                -0.201622\n",
            "total_sulfur_dioxide   -0.202603\n",
            "volatile_acidity       -0.387266\n",
            "Name: quality, dtype: float64\n"
          ]
        }
      ]
    },
    {
      "cell_type": "markdown",
      "source": [
        "### Graficas"
      ],
      "metadata": {
        "id": "MLEA8w9WBY_p"
      }
    },
    {
      "cell_type": "markdown",
      "source": [
        "#### Grafica 1"
      ],
      "metadata": {
        "id": "eqrL_1ldBhUa"
      }
    },
    {
      "cell_type": "code",
      "source": [
        "# Histograma de calidad\n",
        "plt.figure()\n",
        "df['quality'].plot(kind='hist', bins=range(int(df['quality'].min()), int(df['quality'].max()) + 2), rwidth=0.9)\n",
        "plt.title(\"Distribución de la calidad del vino\")\n",
        "plt.xlabel(\"Calidad\")\n",
        "plt.ylabel(\"Frecuencia\")\n",
        "plt.show()"
      ],
      "metadata": {
        "colab": {
          "base_uri": "https://localhost:8080/",
          "height": 472
        },
        "id": "hKUbv34791s6",
        "outputId": "c79e8b21-7fe6-4ba8-e8a0-ae15d0260d5a"
      },
      "execution_count": 16,
      "outputs": [
        {
          "output_type": "display_data",
          "data": {
            "text/plain": [
              "<Figure size 640x480 with 1 Axes>"
            ],
            "image/png": "[encoded data removed]"
          },
          "metadata": {}
        }
      ]
    },
    {
      "cell_type": "markdown",
      "source": [
        "#### Grafica 2"
      ],
      "metadata": {
        "id": "KwhuK2wHBj_U"
      }
    },
    {
      "cell_type": "code",
      "source": [
        "# Boxplot de alcohol por calidad\n",
        "plt.figure()\n",
        "data_by_quality = [df[df['quality'] == q]['alcohol'].values for q in sorted(df['quality'].unique())]\n",
        "plt.boxplot(data_by_quality, labels=sorted(df['quality'].unique()))\n",
        "plt.title(\"Alcohol por nivel de calidad\")\n",
        "plt.xlabel(\"Calidad\")\n",
        "plt.ylabel(\"Alcohol (%)\")\n",
        "plt.show()"
      ],
      "metadata": {
        "colab": {
          "base_uri": "https://localhost:8080/",
          "height": 527
        },
        "id": "NkmMLec6-CQ7",
        "outputId": "c351f398-a161-45b4-bd88-591a0b9a8832"
      },
      "execution_count": 17,
      "outputs": [
        {
          "output_type": "stream",
          "name": "stderr",
          "text": [
            "/tmp/ipython-input-1719732323.py:4: MatplotlibDeprecationWarning: The 'labels' parameter of boxplot() has been renamed 'tick_labels' since Matplotlib 3.9; support for the old name will be dropped in 3.11.\n",
            "  plt.boxplot(data_by_quality, labels=sorted(df['quality'].unique()))\n"
          ]
        },
        {
          "output_type": "display_data",
          "data": {
            "text/plain": [
              "<Figure size 640x480 with 1 Axes>"
            ],
            "image/png": "[encoded data removed]"
          },
          "metadata": {}
        }
      ]
    },
    {
      "cell_type": "markdown",
      "source": [
        "#### Grafica 3"
      ],
      "metadata": {
        "id": "SGkqXJ14BnHn"
      }
    },
    {
      "cell_type": "code",
      "source": [
        "# Dispersión: Alcohol vs Calidad\n",
        "plt.figure()\n",
        "plt.scatter(df['alcohol'], df['quality'])\n",
        "plt.title(\"Relación: Alcohol vs Calidad\")\n",
        "plt.xlabel(\"Alcohol (%)\")\n",
        "plt.ylabel(\"Calidad\")\n",
        "plt.show()\n"
      ],
      "metadata": {
        "colab": {
          "base_uri": "https://localhost:8080/",
          "height": 472
        },
        "id": "349tXfh8-nrq",
        "outputId": "0766fb03-ab5e-4131-b56d-81840d87bb1b"
      },
      "execution_count": 18,
      "outputs": [
        {
          "output_type": "display_data",
          "data": {
            "text/plain": [
              "<Figure size 640x480 with 1 Axes>"
            ],
            "image/png": "[encoded data removed]"
          },
          "metadata": {}
        }
      ]
    },
    {
      "cell_type": "markdown",
      "source": [
        "#### Insights"
      ],
      "metadata": {
        "id": "us40XxaEBrUl"
      }
    },
    {
      "cell_type": "code",
      "source": [
        "quality_corr = corr['quality'].drop('quality').sort_values(ascending=False)\n",
        "print(\"\\n Insights principales:\")\n",
        "print(\"1) El alcohol es el predictor más fuerte de la calidad (corr =\", round(quality_corr['alcohol'], 3), \")\")\n",
        "print(\"2) La acidez volátil se asocia negativamente con la calidad (corr =\", round(quality_corr['volatile_acidity'], 3), \")\")\n",
        "print(\"3) Los sulfatos y el ácido cítrico contribuyen positivamente a la calidad (corr =\", round(quality_corr['sulphates'], 3), \"y\", round(quality_corr['citric_acid'], 3), \")\")\n"
      ],
      "metadata": {
        "colab": {
          "base_uri": "https://localhost:8080/",
          "height": 0
        },
        "id": "qD82h9Wc-r1C",
        "outputId": "491b0fd3-554d-4ef4-8682-360fbfcef64b"
      },
      "execution_count": 23,
      "outputs": [
        {
          "output_type": "stream",
          "name": "stdout",
          "text": [
            "\n",
            " Insights principales:\n",
            "1) El alcohol es el predictor más fuerte de la calidad (corr = 0.49 )\n",
            "2) La acidez volátil se asocia negativamente con la calidad (corr = -0.387 )\n",
            "3) Los sulfatos y el ácido cítrico contribuyen positivamente a la calidad (corr = 0.379 y 0.241 )\n"
          ]
        }
      ]
    },
    {
      "cell_type": "markdown",
      "source": [
        "## Conclusion 1\n",
        "\n",
        "El vino con más alcohol suele ser mejor valorado.\n",
        "Vimos que los vinos con mayor porcentaje de alcohol tienden a tener calificaciones más altas. Esto puede deberse a que el alcohol aporta cuerpo y sabor, lo que hace que el vino sea percibido como de mejor calidad.\n",
        "\n",
        "## Conclusion 2\n",
        "\n",
        "Demasiada acidez volátil baja la calidad.\n",
        "Cuando la acidez volátil es alta, la calidad del vino disminuye. Esto tiene sentido porque una acidez excesiva puede darle al vino un sabor avinagrado o desagradable para el consumidor.\n",
        "\n",
        "## Conclusion 3\n",
        "\n",
        "Los detalles marcan la diferencia.\n",
        "Vinos con más sulfatos y ácido cítrico suelen tener mejor puntuación, ya que estos componentes ayudan al sabor y la estabilidad del vino. En cambio, si hay demasiada densidad, cloruros o dióxido de azufre total, la calidad se ve afectada de forma negativa."
      ],
      "metadata": {
        "id": "CzLcbkXu_9fL"
      }
    }
  ]
}